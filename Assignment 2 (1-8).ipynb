{
 "cells": [
  {
   "cell_type": "markdown",
   "id": "7ab33d3e",
   "metadata": {},
   "source": [
    "# 1. Linear Regression model using statsmodel"
   ]
  },
  {
   "cell_type": "code",
   "execution_count": 112,
   "id": "257234e2",
   "metadata": {},
   "outputs": [],
   "source": [
    "import numpy as np # creating and manipulating arrays\n",
    "import matplotlib.pyplot as plt # visualizing data\n",
    "import sklearn # regression models\n",
    "import statsmodels.api as sm \n",
    "import pandas as pd\n",
    "from sklearn.model_selection import train_test_split, cross_validate,GridSearchCV\n",
    "from sklearn.linear_model import SGDRegressor\n",
    "from sklearn.pipeline import make_pipeline\n",
    "from sklearn.preprocessing import StandardScaler\n",
    "from sklearn.metrics import mean_squared_error"
   ]
  },
  {
   "cell_type": "code",
   "execution_count": 88,
   "id": "ea1e499d",
   "metadata": {},
   "outputs": [],
   "source": [
    "df = pd.read_csv(\"C:\\\\Users\\\\srava\\\\Downloads\\\\garments_worker_productivity.csv\")"
   ]
  },
  {
   "cell_type": "code",
   "execution_count": 89,
   "id": "16334530",
   "metadata": {},
   "outputs": [
    {
     "data": {
      "text/plain": [
       "(936, 15)"
      ]
     },
     "execution_count": 89,
     "metadata": {},
     "output_type": "execute_result"
    }
   ],
   "source": [
    "df['quarter'] = df['quarter'].astype('category')\n",
    "df['quarter'] = df['quarter'].cat.codes\n",
    "\n",
    "df['department'] = df['department'].astype('category')\n",
    "df['department'] = df['department'].cat.codes\n",
    "\n",
    "df['day'] = df['day'].astype('category')\n",
    "df['day'] = df['day'].cat.codes\n",
    "\n",
    "df['date'] = df['date'].astype('category')\n",
    "df['date'] = df['date'].cat.codes\n",
    "df = df.replace(np.nan, 0)\n",
    "\n",
    "from scipy import stats\n",
    "Q1 = df.quantile(q=.25)\n",
    "Q3 = df.quantile(q=.75)\n",
    "IQR = df.apply(stats.iqr)\n",
    "\n",
    "#only keep rows in dataframe that have values within 1.5*IQR of Q1 and Q3\n",
    "df1 = df[~((df < (Q1-1.5*IQR)) | (df > (Q3+1.5*IQR))).any(axis=1)]\n",
    "\n",
    "#find how many rows are left in the dataframe \n",
    "df1.shape"
   ]
  },
  {
   "cell_type": "code",
   "execution_count": 90,
   "id": "f292e095",
   "metadata": {},
   "outputs": [
    {
     "data": {
      "text/html": [
       "<div>\n",
       "<style scoped>\n",
       "    .dataframe tbody tr th:only-of-type {\n",
       "        vertical-align: middle;\n",
       "    }\n",
       "\n",
       "    .dataframe tbody tr th {\n",
       "        vertical-align: top;\n",
       "    }\n",
       "\n",
       "    .dataframe thead th {\n",
       "        text-align: right;\n",
       "    }\n",
       "</style>\n",
       "<table border=\"1\" class=\"dataframe\">\n",
       "  <thead>\n",
       "    <tr style=\"text-align: right;\">\n",
       "      <th></th>\n",
       "      <th>date</th>\n",
       "      <th>quarter</th>\n",
       "      <th>department</th>\n",
       "      <th>day</th>\n",
       "      <th>team</th>\n",
       "      <th>targeted_productivity</th>\n",
       "      <th>smv</th>\n",
       "      <th>wip</th>\n",
       "      <th>over_time</th>\n",
       "      <th>incentive</th>\n",
       "      <th>idle_time</th>\n",
       "      <th>idle_men</th>\n",
       "      <th>no_of_style_change</th>\n",
       "      <th>no_of_workers</th>\n",
       "      <th>actual_productivity</th>\n",
       "    </tr>\n",
       "  </thead>\n",
       "  <tbody>\n",
       "    <tr>\n",
       "      <th>0</th>\n",
       "      <td>0</td>\n",
       "      <td>0</td>\n",
       "      <td>2</td>\n",
       "      <td>3</td>\n",
       "      <td>8</td>\n",
       "      <td>0.80</td>\n",
       "      <td>26.16</td>\n",
       "      <td>1108.0</td>\n",
       "      <td>7080</td>\n",
       "      <td>98</td>\n",
       "      <td>0.0</td>\n",
       "      <td>0</td>\n",
       "      <td>0</td>\n",
       "      <td>59.0</td>\n",
       "      <td>0.940725</td>\n",
       "    </tr>\n",
       "    <tr>\n",
       "      <th>1</th>\n",
       "      <td>0</td>\n",
       "      <td>0</td>\n",
       "      <td>1</td>\n",
       "      <td>3</td>\n",
       "      <td>1</td>\n",
       "      <td>0.75</td>\n",
       "      <td>3.94</td>\n",
       "      <td>0.0</td>\n",
       "      <td>960</td>\n",
       "      <td>0</td>\n",
       "      <td>0.0</td>\n",
       "      <td>0</td>\n",
       "      <td>0</td>\n",
       "      <td>8.0</td>\n",
       "      <td>0.886500</td>\n",
       "    </tr>\n",
       "    <tr>\n",
       "      <th>2</th>\n",
       "      <td>0</td>\n",
       "      <td>0</td>\n",
       "      <td>2</td>\n",
       "      <td>3</td>\n",
       "      <td>11</td>\n",
       "      <td>0.80</td>\n",
       "      <td>11.41</td>\n",
       "      <td>968.0</td>\n",
       "      <td>3660</td>\n",
       "      <td>50</td>\n",
       "      <td>0.0</td>\n",
       "      <td>0</td>\n",
       "      <td>0</td>\n",
       "      <td>30.5</td>\n",
       "      <td>0.800570</td>\n",
       "    </tr>\n",
       "    <tr>\n",
       "      <th>3</th>\n",
       "      <td>0</td>\n",
       "      <td>0</td>\n",
       "      <td>2</td>\n",
       "      <td>3</td>\n",
       "      <td>12</td>\n",
       "      <td>0.80</td>\n",
       "      <td>11.41</td>\n",
       "      <td>968.0</td>\n",
       "      <td>3660</td>\n",
       "      <td>50</td>\n",
       "      <td>0.0</td>\n",
       "      <td>0</td>\n",
       "      <td>0</td>\n",
       "      <td>30.5</td>\n",
       "      <td>0.800570</td>\n",
       "    </tr>\n",
       "    <tr>\n",
       "      <th>4</th>\n",
       "      <td>0</td>\n",
       "      <td>0</td>\n",
       "      <td>2</td>\n",
       "      <td>3</td>\n",
       "      <td>6</td>\n",
       "      <td>0.80</td>\n",
       "      <td>25.90</td>\n",
       "      <td>1170.0</td>\n",
       "      <td>1920</td>\n",
       "      <td>50</td>\n",
       "      <td>0.0</td>\n",
       "      <td>0</td>\n",
       "      <td>0</td>\n",
       "      <td>56.0</td>\n",
       "      <td>0.800382</td>\n",
       "    </tr>\n",
       "  </tbody>\n",
       "</table>\n",
       "</div>"
      ],
      "text/plain": [
       "   date  quarter  department  day  team  targeted_productivity    smv     wip  \\\n",
       "0     0        0           2    3     8                   0.80  26.16  1108.0   \n",
       "1     0        0           1    3     1                   0.75   3.94     0.0   \n",
       "2     0        0           2    3    11                   0.80  11.41   968.0   \n",
       "3     0        0           2    3    12                   0.80  11.41   968.0   \n",
       "4     0        0           2    3     6                   0.80  25.90  1170.0   \n",
       "\n",
       "   over_time  incentive  idle_time  idle_men  no_of_style_change  \\\n",
       "0       7080         98        0.0         0                   0   \n",
       "1        960          0        0.0         0                   0   \n",
       "2       3660         50        0.0         0                   0   \n",
       "3       3660         50        0.0         0                   0   \n",
       "4       1920         50        0.0         0                   0   \n",
       "\n",
       "   no_of_workers  actual_productivity  \n",
       "0           59.0             0.940725  \n",
       "1            8.0             0.886500  \n",
       "2           30.5             0.800570  \n",
       "3           30.5             0.800570  \n",
       "4           56.0             0.800382  "
      ]
     },
     "execution_count": 90,
     "metadata": {},
     "output_type": "execute_result"
    }
   ],
   "source": [
    "df.head()"
   ]
  },
  {
   "cell_type": "code",
   "execution_count": 91,
   "id": "5f15f8de",
   "metadata": {},
   "outputs": [
    {
     "data": {
      "text/html": [
       "<div>\n",
       "<style scoped>\n",
       "    .dataframe tbody tr th:only-of-type {\n",
       "        vertical-align: middle;\n",
       "    }\n",
       "\n",
       "    .dataframe tbody tr th {\n",
       "        vertical-align: top;\n",
       "    }\n",
       "\n",
       "    .dataframe thead th {\n",
       "        text-align: right;\n",
       "    }\n",
       "</style>\n",
       "<table border=\"1\" class=\"dataframe\">\n",
       "  <thead>\n",
       "    <tr style=\"text-align: right;\">\n",
       "      <th></th>\n",
       "      <th>date</th>\n",
       "      <th>quarter</th>\n",
       "      <th>department</th>\n",
       "      <th>day</th>\n",
       "      <th>team</th>\n",
       "      <th>targeted_productivity</th>\n",
       "      <th>smv</th>\n",
       "      <th>wip</th>\n",
       "      <th>over_time</th>\n",
       "      <th>incentive</th>\n",
       "      <th>idle_time</th>\n",
       "      <th>idle_men</th>\n",
       "      <th>no_of_style_change</th>\n",
       "      <th>no_of_workers</th>\n",
       "    </tr>\n",
       "  </thead>\n",
       "  <tbody>\n",
       "    <tr>\n",
       "      <th>0</th>\n",
       "      <td>0</td>\n",
       "      <td>0</td>\n",
       "      <td>2</td>\n",
       "      <td>3</td>\n",
       "      <td>8</td>\n",
       "      <td>0.80</td>\n",
       "      <td>26.16</td>\n",
       "      <td>1108.0</td>\n",
       "      <td>7080</td>\n",
       "      <td>98</td>\n",
       "      <td>0.0</td>\n",
       "      <td>0</td>\n",
       "      <td>0</td>\n",
       "      <td>59.0</td>\n",
       "    </tr>\n",
       "    <tr>\n",
       "      <th>1</th>\n",
       "      <td>0</td>\n",
       "      <td>0</td>\n",
       "      <td>1</td>\n",
       "      <td>3</td>\n",
       "      <td>1</td>\n",
       "      <td>0.75</td>\n",
       "      <td>3.94</td>\n",
       "      <td>0.0</td>\n",
       "      <td>960</td>\n",
       "      <td>0</td>\n",
       "      <td>0.0</td>\n",
       "      <td>0</td>\n",
       "      <td>0</td>\n",
       "      <td>8.0</td>\n",
       "    </tr>\n",
       "    <tr>\n",
       "      <th>2</th>\n",
       "      <td>0</td>\n",
       "      <td>0</td>\n",
       "      <td>2</td>\n",
       "      <td>3</td>\n",
       "      <td>11</td>\n",
       "      <td>0.80</td>\n",
       "      <td>11.41</td>\n",
       "      <td>968.0</td>\n",
       "      <td>3660</td>\n",
       "      <td>50</td>\n",
       "      <td>0.0</td>\n",
       "      <td>0</td>\n",
       "      <td>0</td>\n",
       "      <td>30.5</td>\n",
       "    </tr>\n",
       "    <tr>\n",
       "      <th>3</th>\n",
       "      <td>0</td>\n",
       "      <td>0</td>\n",
       "      <td>2</td>\n",
       "      <td>3</td>\n",
       "      <td>12</td>\n",
       "      <td>0.80</td>\n",
       "      <td>11.41</td>\n",
       "      <td>968.0</td>\n",
       "      <td>3660</td>\n",
       "      <td>50</td>\n",
       "      <td>0.0</td>\n",
       "      <td>0</td>\n",
       "      <td>0</td>\n",
       "      <td>30.5</td>\n",
       "    </tr>\n",
       "    <tr>\n",
       "      <th>4</th>\n",
       "      <td>0</td>\n",
       "      <td>0</td>\n",
       "      <td>2</td>\n",
       "      <td>3</td>\n",
       "      <td>6</td>\n",
       "      <td>0.80</td>\n",
       "      <td>25.90</td>\n",
       "      <td>1170.0</td>\n",
       "      <td>1920</td>\n",
       "      <td>50</td>\n",
       "      <td>0.0</td>\n",
       "      <td>0</td>\n",
       "      <td>0</td>\n",
       "      <td>56.0</td>\n",
       "    </tr>\n",
       "    <tr>\n",
       "      <th>...</th>\n",
       "      <td>...</td>\n",
       "      <td>...</td>\n",
       "      <td>...</td>\n",
       "      <td>...</td>\n",
       "      <td>...</td>\n",
       "      <td>...</td>\n",
       "      <td>...</td>\n",
       "      <td>...</td>\n",
       "      <td>...</td>\n",
       "      <td>...</td>\n",
       "      <td>...</td>\n",
       "      <td>...</td>\n",
       "      <td>...</td>\n",
       "      <td>...</td>\n",
       "    </tr>\n",
       "    <tr>\n",
       "      <th>1192</th>\n",
       "      <td>51</td>\n",
       "      <td>1</td>\n",
       "      <td>0</td>\n",
       "      <td>5</td>\n",
       "      <td>10</td>\n",
       "      <td>0.75</td>\n",
       "      <td>2.90</td>\n",
       "      <td>0.0</td>\n",
       "      <td>960</td>\n",
       "      <td>0</td>\n",
       "      <td>0.0</td>\n",
       "      <td>0</td>\n",
       "      <td>0</td>\n",
       "      <td>8.0</td>\n",
       "    </tr>\n",
       "    <tr>\n",
       "      <th>1193</th>\n",
       "      <td>51</td>\n",
       "      <td>1</td>\n",
       "      <td>0</td>\n",
       "      <td>5</td>\n",
       "      <td>8</td>\n",
       "      <td>0.70</td>\n",
       "      <td>3.90</td>\n",
       "      <td>0.0</td>\n",
       "      <td>960</td>\n",
       "      <td>0</td>\n",
       "      <td>0.0</td>\n",
       "      <td>0</td>\n",
       "      <td>0</td>\n",
       "      <td>8.0</td>\n",
       "    </tr>\n",
       "    <tr>\n",
       "      <th>1194</th>\n",
       "      <td>51</td>\n",
       "      <td>1</td>\n",
       "      <td>0</td>\n",
       "      <td>5</td>\n",
       "      <td>7</td>\n",
       "      <td>0.65</td>\n",
       "      <td>3.90</td>\n",
       "      <td>0.0</td>\n",
       "      <td>960</td>\n",
       "      <td>0</td>\n",
       "      <td>0.0</td>\n",
       "      <td>0</td>\n",
       "      <td>0</td>\n",
       "      <td>8.0</td>\n",
       "    </tr>\n",
       "    <tr>\n",
       "      <th>1195</th>\n",
       "      <td>51</td>\n",
       "      <td>1</td>\n",
       "      <td>0</td>\n",
       "      <td>5</td>\n",
       "      <td>9</td>\n",
       "      <td>0.75</td>\n",
       "      <td>2.90</td>\n",
       "      <td>0.0</td>\n",
       "      <td>1800</td>\n",
       "      <td>0</td>\n",
       "      <td>0.0</td>\n",
       "      <td>0</td>\n",
       "      <td>0</td>\n",
       "      <td>15.0</td>\n",
       "    </tr>\n",
       "    <tr>\n",
       "      <th>1196</th>\n",
       "      <td>51</td>\n",
       "      <td>1</td>\n",
       "      <td>0</td>\n",
       "      <td>5</td>\n",
       "      <td>6</td>\n",
       "      <td>0.70</td>\n",
       "      <td>2.90</td>\n",
       "      <td>0.0</td>\n",
       "      <td>720</td>\n",
       "      <td>0</td>\n",
       "      <td>0.0</td>\n",
       "      <td>0</td>\n",
       "      <td>0</td>\n",
       "      <td>6.0</td>\n",
       "    </tr>\n",
       "  </tbody>\n",
       "</table>\n",
       "<p>936 rows × 14 columns</p>\n",
       "</div>"
      ],
      "text/plain": [
       "      date  quarter  department  day  team  targeted_productivity    smv  \\\n",
       "0        0        0           2    3     8                   0.80  26.16   \n",
       "1        0        0           1    3     1                   0.75   3.94   \n",
       "2        0        0           2    3    11                   0.80  11.41   \n",
       "3        0        0           2    3    12                   0.80  11.41   \n",
       "4        0        0           2    3     6                   0.80  25.90   \n",
       "...    ...      ...         ...  ...   ...                    ...    ...   \n",
       "1192    51        1           0    5    10                   0.75   2.90   \n",
       "1193    51        1           0    5     8                   0.70   3.90   \n",
       "1194    51        1           0    5     7                   0.65   3.90   \n",
       "1195    51        1           0    5     9                   0.75   2.90   \n",
       "1196    51        1           0    5     6                   0.70   2.90   \n",
       "\n",
       "         wip  over_time  incentive  idle_time  idle_men  no_of_style_change  \\\n",
       "0     1108.0       7080         98        0.0         0                   0   \n",
       "1        0.0        960          0        0.0         0                   0   \n",
       "2      968.0       3660         50        0.0         0                   0   \n",
       "3      968.0       3660         50        0.0         0                   0   \n",
       "4     1170.0       1920         50        0.0         0                   0   \n",
       "...      ...        ...        ...        ...       ...                 ...   \n",
       "1192     0.0        960          0        0.0         0                   0   \n",
       "1193     0.0        960          0        0.0         0                   0   \n",
       "1194     0.0        960          0        0.0         0                   0   \n",
       "1195     0.0       1800          0        0.0         0                   0   \n",
       "1196     0.0        720          0        0.0         0                   0   \n",
       "\n",
       "      no_of_workers  \n",
       "0              59.0  \n",
       "1               8.0  \n",
       "2              30.5  \n",
       "3              30.5  \n",
       "4              56.0  \n",
       "...             ...  \n",
       "1192            8.0  \n",
       "1193            8.0  \n",
       "1194            8.0  \n",
       "1195           15.0  \n",
       "1196            6.0  \n",
       "\n",
       "[936 rows x 14 columns]"
      ]
     },
     "execution_count": 91,
     "metadata": {},
     "output_type": "execute_result"
    }
   ],
   "source": [
    "y = df1['actual_productivity']\n",
    "X = df1.drop('actual_productivity',axis=1)\n",
    "X"
   ]
  },
  {
   "cell_type": "code",
   "execution_count": 92,
   "id": "ffc1e6e0",
   "metadata": {},
   "outputs": [
    {
     "name": "stdout",
     "output_type": "stream",
     "text": [
      "                                 OLS Regression Results                                 \n",
      "========================================================================================\n",
      "Dep. Variable:     actual_productivity   R-squared (uncentered):                   0.975\n",
      "Model:                             OLS   Adj. R-squared (uncentered):              0.975\n",
      "Method:                  Least Squares   F-statistic:                              3292.\n",
      "Date:                 Tue, 13 Sep 2022   Prob (F-statistic):                        0.00\n",
      "Time:                         22:19:43   Log-Likelihood:                          623.44\n",
      "No. Observations:                  936   AIC:                                     -1225.\n",
      "Df Residuals:                      925   BIC:                                     -1172.\n",
      "Df Model:                           11                                                  \n",
      "Covariance Type:             nonrobust                                                  \n",
      "=========================================================================================\n",
      "                            coef    std err          t      P>|t|      [0.025      0.975]\n",
      "-----------------------------------------------------------------------------------------\n",
      "date                      0.0002      0.000      0.595      0.552      -0.000       0.001\n",
      "quarter                   0.0069      0.003      1.973      0.049     3.7e-05       0.014\n",
      "department                0.0154      0.012      1.323      0.186      -0.007       0.038\n",
      "day                      -0.0015      0.002     -0.629      0.529      -0.006       0.003\n",
      "team                     -0.0072      0.001     -6.092      0.000      -0.010      -0.005\n",
      "targeted_productivity     1.0691      0.023     46.043      0.000       1.024       1.115\n",
      "smv                      -0.0063      0.001     -6.419      0.000      -0.008      -0.004\n",
      "wip                   -1.992e-05   1.66e-05     -1.201      0.230   -5.25e-05    1.26e-05\n",
      "over_time             -1.903e-06   2.07e-06     -0.921      0.357   -5.96e-06    2.15e-06\n",
      "incentive                 0.0018      0.000      7.610      0.000       0.001       0.002\n",
      "idle_time                      0          0        nan        nan           0           0\n",
      "idle_men                       0          0        nan        nan           0           0\n",
      "no_of_style_change             0          0        nan        nan           0           0\n",
      "no_of_workers             0.0012      0.001      1.769      0.077      -0.000       0.003\n",
      "==============================================================================\n",
      "Omnibus:                       58.317   Durbin-Watson:                   1.260\n",
      "Prob(Omnibus):                  0.000   Jarque-Bera (JB):              106.336\n",
      "Skew:                          -0.434   Prob(JB):                     8.12e-24\n",
      "Kurtosis:                       4.404   Cond. No.                          inf\n",
      "==============================================================================\n",
      "\n",
      "Notes:\n",
      "[1] R² is computed without centering (uncentered) since the model does not contain a constant.\n",
      "[2] Standard Errors assume that the covariance matrix of the errors is correctly specified.\n",
      "[3] The smallest eigenvalue is      0. This might indicate that there are\n",
      "strong multicollinearity problems or that the design matrix is singular.\n"
     ]
    },
    {
     "name": "stderr",
     "output_type": "stream",
     "text": [
      "C:\\Users\\srava\\anaconda3\\envs\\BUSA\\lib\\site-packages\\statsmodels\\regression\\linear_model.py:1918: RuntimeWarning: divide by zero encountered in double_scalars\n",
      "  return np.sqrt(eigvals[0]/eigvals[-1])\n"
     ]
    }
   ],
   "source": [
    "model = sm.OLS(endog= y, exog= X)\n",
    "results = model.fit()\n",
    "print(results.summary())"
   ]
  },
  {
   "cell_type": "markdown",
   "id": "e6a6900f",
   "metadata": {},
   "source": [
    "# 2. The Best features are team, targeted_productivity, smv and incentive as the p-values are 0.05"
   ]
  },
  {
   "cell_type": "markdown",
   "id": "49679c2b",
   "metadata": {},
   "source": [
    "# SGD implementation "
   ]
  },
  {
   "cell_type": "code",
   "execution_count": 93,
   "id": "fa66df7a",
   "metadata": {},
   "outputs": [],
   "source": [
    "X_train, X_test, y_train, y_test = train_test_split(X, y, test_size = .35, random_state = 1)"
   ]
  },
  {
   "cell_type": "code",
   "execution_count": 94,
   "id": "4405f3a9",
   "metadata": {},
   "outputs": [],
   "source": [
    "reg = make_pipeline(StandardScaler(), SGDRegressor(max_iter=1000 , tol=1e-3))\n",
    "reg.fit(X_train, y_train)\n",
    "y_pred = reg.predict(X_test)"
   ]
  },
  {
   "cell_type": "code",
   "execution_count": 95,
   "id": "74f677d8",
   "metadata": {},
   "outputs": [
    {
     "data": {
      "image/png": "[encoded data removed]",
      "text/plain": [
       "<Figure size 640x480 with 1 Axes>"
      ]
     },
     "metadata": {},
     "output_type": "display_data"
    }
   ],
   "source": [
    "plt.scatter(X_test['targeted_productivity'], y_test, color = \"red\", label = \"Test data\")\n",
    "plt.scatter(X_test['targeted_productivity'], y_pred, color = \"green\", label = \"predictions\")\n",
    "plt.xlabel(\"targeted\")\n",
    "plt.ylabel(\"actual\")\n",
    "plt.legend(loc=\"upper left\")\n",
    "plt.show()"
   ]
  },
  {
   "cell_type": "code",
   "execution_count": 96,
   "id": "92fee181",
   "metadata": {},
   "outputs": [
    {
     "name": "stdout",
     "output_type": "stream",
     "text": [
      "Training MSE:  0.015457081438760614\n",
      "Validation MSE:  0.22196557116136587\n",
      "R-squared: 0.28649905340760473\n"
     ]
    }
   ],
   "source": [
    "val_error = mean_squared_error(y_test, y_pred)\n",
    "\n",
    "y_train_pred = reg.predict(X_train)\n",
    "train_error = mean_squared_error(y_train, y_train_pred)\n",
    "\n",
    "# Get validation scores\n",
    "scores = cross_validate(reg, X_train, y_train, cv=3)\n",
    "\n",
    "print(\"Training MSE: \", train_error)\n",
    "print(\"Validation MSE: \", np.mean(scores['test_score']))\n",
    "\n",
    "score = reg.score(X_test, y_test)\n",
    "print(\"R-squared:\", score)"
   ]
  },
  {
   "cell_type": "markdown",
   "id": "55c5b5f7",
   "metadata": {},
   "source": [
    "#     3.   \n",
    "         The R2 Value for OLS Regression is 0.976\n",
    "         The R2 Value for SGD Regression is 0.282\n",
    "         The performance of OLS Regression is better than SGD Regression\n",
    "    "
   ]
  },
  {
   "cell_type": "code",
   "execution_count": 97,
   "id": "97762d5d",
   "metadata": {},
   "outputs": [],
   "source": [
    "X_train, X_test, y_train, y_test = train_test_split(X, y, test_size = .35, random_state = 1)\n",
    "X_test, X_val, y_test, y_val = train_test_split(X_test, y_test, test_size = .35, random_state = 1)"
   ]
  },
  {
   "cell_type": "markdown",
   "id": "6e7cc45d",
   "metadata": {},
   "source": [
    "# 4. Polynomial Regression "
   ]
  },
  {
   "cell_type": "code",
   "execution_count": 98,
   "id": "62692fec",
   "metadata": {},
   "outputs": [],
   "source": [
    "from sklearn.preprocessing import PolynomialFeatures\n",
    "from sklearn.linear_model import LinearRegression\n",
    "\n",
    "poly_features = PolynomialFeatures(degree=2, include_bias=False)\n",
    "X_train_poly = poly_features.fit_transform(X_train)\n",
    "X_test_poly = poly_features.fit_transform(X_test)\n",
    "X_val_poly = poly_features.fit_transform(X_val)\n",
    "\n",
    "\n",
    "sgd_reg = SGDRegressor(alpha = 0.1,max_iter=1000, tol=1e-3,eta0 = 0.01, random_state=1)\n",
    "sgd_reg.fit(X_train_poly, y_train.ravel())\n",
    "poly_train_pred = sgd_reg.predict(X_train_poly)\n",
    "poly_test_pred = sgd_reg.predict(X_test_poly)\n",
    "poly_val_pred = sgd_reg.predict(X_val_poly)"
   ]
  },
  {
   "cell_type": "code",
   "execution_count": 99,
   "id": "88624bea",
   "metadata": {},
   "outputs": [
    {
     "data": {
      "image/png": "[encoded data removed]",
      "text/plain": [
       "<Figure size 640x480 with 1 Axes>"
      ]
     },
     "metadata": {},
     "output_type": "display_data"
    }
   ],
   "source": [
    "plt.scatter(X_test['team'], y_test, color = \"red\", label = \"Test data\")\n",
    "plt.scatter(X_test['team'], poly_test_pred, color = \"green\", label = \"predictions\")\n",
    "plt.xlabel(\"team\")\n",
    "plt.ylabel(\"actual\")\n",
    "plt.legend(loc=\"upper left\")\n",
    "plt.show()"
   ]
  },
  {
   "cell_type": "code",
   "execution_count": 100,
   "id": "353c053f",
   "metadata": {},
   "outputs": [
    {
     "name": "stdout",
     "output_type": "stream",
     "text": [
      "Training MSE:  2.709468021875053e+47\n",
      "Validation MSE:  2.42877146380042e+47\n",
      "R-squared: -1.3051572951414067e+49\n"
     ]
    }
   ],
   "source": [
    "val_error = mean_squared_error(y_val, poly_val_pred)\n",
    "train_error = mean_squared_error(y_train, poly_train_pred)\n",
    "\n",
    "print(\"Training MSE: \", train_error)\n",
    "print(\"Validation MSE: \", val_error)\n",
    "\n",
    "score = sgd_reg.score(X_train_poly, y_train)\n",
    "print(\"R-squared:\", score)"
   ]
  },
  {
   "cell_type": "markdown",
   "id": "8dc2b73f",
   "metadata": {},
   "source": [
    "# 5. Lasso Regression "
   ]
  },
  {
   "cell_type": "code",
   "execution_count": 101,
   "id": "f4c8073e",
   "metadata": {},
   "outputs": [
    {
     "name": "stdout",
     "output_type": "stream",
     "text": [
      "Training MSE:  0.017223619083485603\n",
      "Validation MSE:  0.14953213517600258\n",
      "R-squared: 0.2673683707355641\n"
     ]
    }
   ],
   "source": [
    "lasso = make_pipeline(StandardScaler(), SGDRegressor(alpha=0.0001, epsilon=0.01, eta0=0.1, penalty=\"l1\", max_iter=1000, tol=1e-3, random_state=42))\n",
    "lasso.fit(X_train, y_train)\n",
    "lasso_train_pred = lasso.predict(X_train)\n",
    "lasso_test_pred = lasso.predict(X_test)\n",
    "lasso_val_pred = lasso.predict(X_val)\n",
    "\n",
    "val_error = mean_squared_error(y_val, lasso_val_pred)\n",
    "train_error = mean_squared_error(y_train, lasso_train_pred)\n",
    "\n",
    "# Get validation scores\n",
    "scores = cross_validate(lasso, X_train, y_train, cv=3)\n",
    "\n",
    "print(\"Training MSE: \", train_error)\n",
    "print(\"Validation MSE: \", np.mean(scores['test_score']))\n",
    "\n",
    "score = lasso.score(X_test, y_test)\n",
    "print(\"R-squared:\", score)"
   ]
  },
  {
   "cell_type": "markdown",
   "id": "7e99ef1e",
   "metadata": {},
   "source": [
    "# 6. Ridge Regression "
   ]
  },
  {
   "cell_type": "code",
   "execution_count": 102,
   "id": "c3b32e53",
   "metadata": {},
   "outputs": [
    {
     "data": {
      "image/png": "[encoded data removed]",
      "text/plain": [
       "<Figure size 640x480 with 1 Axes>"
      ]
     },
     "metadata": {},
     "output_type": "display_data"
    }
   ],
   "source": [
    "ridge = make_pipeline(StandardScaler(), SGDRegressor(alpha=0.0001, epsilon=0.01, eta0=0.1,  max_iter=1000, tol=1e-3, random_state=1))\n",
    "ridge.fit(X_train, y_train)\n",
    "y_pred = ridge.predict(X_test)\n",
    "\n",
    "plt.scatter(X_test['incentive'], y_test, color = \"red\", label = \"Test data\")\n",
    "plt.scatter(X_test['incentive'], y_pred, color = \"green\", label = \"predictions\")\n",
    "plt.xlabel(\"incentive\")\n",
    "plt.ylabel(\"target\")\n",
    "plt.legend(loc=\"upper left\")\n",
    "plt.show()"
   ]
  },
  {
   "cell_type": "code",
   "execution_count": 103,
   "id": "c23c573f",
   "metadata": {},
   "outputs": [
    {
     "name": "stdout",
     "output_type": "stream",
     "text": [
      "Training MSE:  0.0165287104624505\n",
      "Validation MSE:  0.21917211911220058\n",
      "R-squared: 0.23964304369488265\n"
     ]
    }
   ],
   "source": [
    "ridge_train_pred = ridge.predict(X_train)\n",
    "ridge_test_pred = ridge.predict(X_test)\n",
    "ridge_val_pred = ridge.predict(X_val)\n",
    "\n",
    "val_error = mean_squared_error(y_val, ridge_val_pred)\n",
    "train_error = mean_squared_error(y_train, ridge_train_pred)\n",
    "\n",
    "# Get validation scores\n",
    "scores = cross_validate(ridge, X_train, y_train, cv=3)\n",
    "\n",
    "print(\"Training MSE: \", train_error)\n",
    "print(\"Validation MSE: \", np.mean(scores['test_score']))\n",
    "\n",
    "score = ridge.score(X_test, y_test)\n",
    "print(\"R-squared:\", score)"
   ]
  },
  {
   "cell_type": "code",
   "execution_count": 104,
   "id": "61308400",
   "metadata": {},
   "outputs": [
    {
     "data": {
      "text/plain": [
       "GridSearchCV(cv=2, estimator=SGDRegressor(), n_jobs=-1,\n",
       "             param_grid={'alpha': array([1.e-01, 1.e-02, 1.e-03, 1.e-04, 1.e-05, 1.e-06]),\n",
       "                         'learning_rate': ['constant', 'optimal', 'invscaling'],\n",
       "                         'loss': ['squared_loss', 'huber',\n",
       "                                  'epsilon_insensitive']})"
      ]
     },
     "execution_count": 104,
     "metadata": {},
     "output_type": "execute_result"
    }
   ],
   "source": [
    "SGD = SGDRegressor()\n",
    "parameters = {\n",
    "    'alpha': 10.0 ** -np.arange(1, 7),\n",
    "    'loss': ['squared_loss', 'huber', 'epsilon_insensitive'],\n",
    "    'learning_rate': ['constant', 'optimal', 'invscaling'],\n",
    "}\n",
    "clf = GridSearchCV(estimator = SGD, param_grid = parameters, cv = 2, n_jobs=-1)\n",
    "\n",
    "clf.fit(X_train, y_train)\n"
   ]
  },
  {
   "cell_type": "code",
   "execution_count": 105,
   "id": "482e987c",
   "metadata": {},
   "outputs": [
    {
     "data": {
      "text/plain": [
       "{'alpha': 0.01, 'learning_rate': 'optimal', 'loss': 'huber'}"
      ]
     },
     "execution_count": 105,
     "metadata": {},
     "output_type": "execute_result"
    }
   ],
   "source": [
    "clf.best_params_"
   ]
  },
  {
   "cell_type": "markdown",
   "id": "a94d2ef5",
   "metadata": {},
   "source": [
    "Early Stopping is a term used as reference to machine learning when discussing the prevention of overfitting of a model to dataset."
   ]
  },
  {
   "cell_type": "markdown",
   "id": "277bc10f",
   "metadata": {},
   "source": [
    "# 7. ElasticNet Regression "
   ]
  },
  {
   "cell_type": "code",
   "execution_count": 106,
   "id": "c9b377e0",
   "metadata": {},
   "outputs": [
    {
     "name": "stdout",
     "output_type": "stream",
     "text": [
      "Training MSE:  0.015437090986366498\n",
      "Validation MSE:  0.22082041427315777\n",
      "R-squared: 0.31875715863264653\n"
     ]
    }
   ],
   "source": [
    "elasticnet = make_pipeline(StandardScaler(), SGDRegressor(early_stopping = True, penalty=\"elasticnet\", max_iter=1000, tol=1e-3, random_state=42))\n",
    "elasticnet.fit(X_train, y_train)\n",
    "elasticnet_train_pred = elasticnet.predict(X_train)\n",
    "elasticnet_test_pred = elasticnet.predict(X_test)\n",
    "elasticnet_val_pred = elasticnet.predict(X_val)\n",
    "\n",
    "val_error = mean_squared_error(y_val, elasticnet_val_pred)\n",
    "train_error = mean_squared_error(y_train, elasticnet_train_pred)\n",
    "\n",
    "# Get validation scores\n",
    "scores = cross_validate(elasticnet, X_train, y_train, cv=3)\n",
    "\n",
    "print(\"Training MSE: \", train_error)\n",
    "print(\"Validation MSE: \", np.mean(scores['test_score']))\n",
    "\n",
    "score = elasticnet.score(X_test, y_test)\n",
    "print(\"R-squared:\", score)"
   ]
  },
  {
   "cell_type": "markdown",
   "id": "267da7f2",
   "metadata": {},
   "source": [
    "# 8. Best Model based on Performance Metrics"
   ]
  },
  {
   "cell_type": "raw",
   "id": "c43023b3",
   "metadata": {},
   "source": [
    "The R2 value for linear regression : 0.975 \n",
    "The R2 value for lasso regression : 0.267 \n",
    "The R2 value for ridge regression : 0.239\n",
    "The R2 value for ElasticNet regression : 0.318\n",
    "\n",
    "The Best model based on performance metrics is linear regression model"
   ]
  }
 ],
 "metadata": {
  "kernelspec": {
   "display_name": "Python 3 (ipykernel)",
   "language": "python",
   "name": "python3"
  },
  "language_info": {
   "codemirror_mode": {
    "name": "ipython",
    "version": 3
   },
   "file_extension": ".py",
   "mimetype": "text/x-python",
   "name": "python",
   "nbconvert_exporter": "python",
   "pygments_lexer": "ipython3",
   "version": "3.7.13"
  }
 },
 "nbformat": 4,
 "nbformat_minor": 5
}
